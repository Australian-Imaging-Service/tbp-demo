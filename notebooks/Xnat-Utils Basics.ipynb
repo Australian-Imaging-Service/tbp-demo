{
 "cells": [
  {
   "cell_type": "markdown",
   "id": "6d1a5247",
   "metadata": {},
   "source": [
    "# Accessing XNAT with Xnat-Utils\n",
    "\n",
    "Xnat-Utils is a collection of command-line utilities for interacting with data stored in an XNAT instance. There are three key utilities included in the package\n",
    "\n",
    "* xnat-ls - List projects/subjects/sessions/scans that your account has access to\n",
    "* xnat-get - Download data from an XNAT session or range of sessions\n",
    "* xnat-put - Upload data to an XNAT session\n",
    "\n",
    "## Getting Started\n",
    "\n",
    "The best place to start with any of the tools is with the help menu, accessed by providing the `--help` flag to any of the tools, e.g.:"
   ]
  },
  {
   "cell_type": "code",
   "execution_count": null,
   "id": "d0a0f9d3",
   "metadata": {
    "scrolled": true,
    "vscode": {
     "languageId": "python"
    }
   },
   "outputs": [],
   "source": [
    "xnat-ls --help"
   ]
  },
  {
   "attachments": {},
   "cell_type": "markdown",
   "id": "42a92998",
   "metadata": {},
   "source": [
    "## Listing projects, subjects and sessions\n",
    "\n",
    "While it is always possible to view the subjects and sessions you have access to via the XNAT UI,\n",
    "when working on the command line `xnat-ls` can be a convenient tool for exploring data\n",
    "on XNAT.\n",
    "\n",
    "In the base use case, calling `xnat-ls` with no arguments will list the project IDs you have\n",
    "access to\n"
   ]
  },
  {
   "cell_type": "code",
   "execution_count": null,
   "id": "5b51cd1d",
   "metadata": {
    "vscode": {
     "languageId": "python"
    }
   },
   "outputs": [],
   "source": [
    "xnat-ls"
   ]
  },
  {
   "attachments": {},
   "cell_type": "markdown",
   "id": "def41de2",
   "metadata": {},
   "source": [
    "To list the subjects in a project, pass the `--datatype` or `-d` flag with `subject` as its argument, followed by the ID of the project to list, e.g."
   ]
  },
  {
   "cell_type": "code",
   "execution_count": null,
   "id": "49d8c206",
   "metadata": {
    "vscode": {
     "languageId": "python"
    }
   },
   "outputs": [],
   "source": [
    "xnat-ls --project dummydicomproject"
   ]
  },
  {
   "attachments": {},
   "cell_type": "markdown",
   "id": "2c2110a5",
   "metadata": {},
   "source": [
    "Likewise to list all imaging sessions for a subject"
   ]
  },
  {
   "cell_type": "code",
   "execution_count": null,
   "id": "b70347ff",
   "metadata": {
    "vscode": {
     "languageId": "python"
    }
   },
   "outputs": [],
   "source": [
    "xnat-ls --subject dummydicomsubject --project dummydicomproject"
   ]
  },
  {
   "attachments": {},
   "cell_type": "markdown",
   "id": "2823da1a",
   "metadata": {},
   "source": [
    "or to list all scans in an imaging session supply the `--datatype scan` flag"
   ]
  },
  {
   "cell_type": "code",
   "execution_count": null,
   "id": "1a36145d",
   "metadata": {
    "vscode": {
     "languageId": "python"
    }
   },
   "outputs": [],
   "source": [
    "xnat-ls dummydicomsession --project dummydicomproject --datatype scan"
   ]
  },
  {
   "attachments": {},
   "cell_type": "markdown",
   "id": "ef3ca010",
   "metadata": {},
   "source": [
    "Although out of the scope of this tutorial, it is also possible to filter sessions by date or whether they contain a scan matching a specific pattern (regular expression), e.g."
   ]
  },
  {
   "cell_type": "code",
   "execution_count": null,
   "id": "2bf6aeea",
   "metadata": {
    "vscode": {
     "languageId": "python"
    }
   },
   "outputs": [],
   "source": [
    "xnat-ls --with_scans \".*mprage.*\" -p dummydicomproject -d session"
   ]
  },
  {
   "attachments": {},
   "cell_type": "markdown",
   "id": "9286b9e7",
   "metadata": {},
   "source": [
    "## Downloading data\n",
    "\n",
    "There are two ways to download data using `xnat-get`, using the \"catalog XML\" manifest file downloaded via the UI, or by providing the session labels of the data to download.\n",
    "\n",
    "### Using a catalog XML manifest\n",
    "\n",
    "To download all the files saved in a catalog, simply provide it as sole argument to the `xnat-get` command"
   ]
  },
  {
   "cell_type": "code",
   "execution_count": null,
   "id": "2a48da28",
   "metadata": {
    "vscode": {
     "languageId": "python"
    }
   },
   "outputs": [],
   "source": [
    "xnat-get ~/Desktop/xnat-download-catalog.xml --target ~/Desktop/my-download"
   ]
  },
  {
   "cell_type": "code",
   "execution_count": null,
   "id": "c323b313",
   "metadata": {
    "vscode": {
     "languageId": "python"
    }
   },
   "outputs": [],
   "source": [
    "tree ~/Desktop/my-download/"
   ]
  },
  {
   "attachments": {},
   "cell_type": "markdown",
   "id": "7dd150e1",
   "metadata": {},
   "source": [
    "### Using the session ID\n",
    "\n",
    "Alternatively, we can skip the catalog XML and just provide the session ID to `xnat-get` and it will download all scans in the session, e.g.\n",
    "\n",
    "```bash\n",
    "ubuntu@ip-10-0-5-248:~ $ xnat-get dummydicomsession -p dummydicomproject\n",
    "```\n",
    "\n",
    "However, in this case we just want to download the T1-weighted scan so we include the `--scans` flag to specify which scans we want to download"
   ]
  },
  {
   "cell_type": "code",
   "execution_count": null,
   "id": "76627a0c",
   "metadata": {
    "vscode": {
     "languageId": "python"
    }
   },
   "outputs": [],
   "source": [
    "xnat-get  dummydicomsession -p dummydicomproject --scans 't1_mprage_sag_p2_iso_1' --target ~/Desktop/my-download2\n",
    "tree ~/Desktop/my-download2"
   ]
  },
  {
   "attachments": {},
   "cell_type": "markdown",
   "id": "42f72643",
   "metadata": {},
   "source": [
    "If you want to download more than one scan from just add them to the list, making sure to enclose any names with spaces or special characters in it within single quotes"
   ]
  },
  {
   "cell_type": "code",
   "execution_count": null,
   "id": "1d09fc6b",
   "metadata": {
    "vscode": {
     "languageId": "python"
    }
   },
   "outputs": [],
   "source": [
    "xnat-get  dummydicomsession -p dummydicomproject --scans 't1_mprage_sag_p2_iso_1' 'gre_field_mapping 3mm' --target ~/Desktop/my-download3\n",
    "tree ~/Desktop/my-download3"
   ]
  },
  {
   "attachments": {},
   "cell_type": "markdown",
   "id": "7f1c0798",
   "metadata": {},
   "source": [
    "We can also use the `.*` wildcard symbol to match multiple scans across multiple sessions (unfortunately we only have 1 session).\n",
    "\n",
    "NB: don't forget to enclose the session and scan names in single quotes when using the `*` symbol as otherwise it will be intercepted by the bash prompt"
   ]
  },
  {
   "cell_type": "code",
   "execution_count": null,
   "id": "0ecf8809",
   "metadata": {
    "vscode": {
     "languageId": "python"
    }
   },
   "outputs": [],
   "source": [
    "xnat-get  'dummy.*' -p dummydicomproject --scans '.*mprage.*' --target ~/Desktop/my-download4\n",
    "tree ~/Desktop/my-download4"
   ]
  },
  {
   "attachments": {},
   "cell_type": "markdown",
   "id": "a5916d1b",
   "metadata": {},
   "source": [
    "Check out the help menu for all the other options you may want to use, such as `--with_scans [...]`, `--convert_to nifti_gz`, `--skip_downloaded`, `--resource_name`, etc..."
   ]
  },
  {
   "cell_type": "code",
   "execution_count": null,
   "id": "c6996088",
   "metadata": {
    "vscode": {
     "languageId": "python"
    }
   },
   "outputs": [],
   "source": [
    "xnat-get --help"
   ]
  },
  {
   "cell_type": "markdown",
   "id": "98a5a915",
   "metadata": {},
   "source": []
  }
 ],
 "metadata": {
  "kernelspec": {
   "display_name": "Bash",
   "language": "bash",
   "name": "bash"
  },
  "language_info": {
   "codemirror_mode": "shell",
   "file_extension": ".sh",
   "mimetype": "text/x-sh",
   "name": "bash"
  }
 },
 "nbformat": 4,
 "nbformat_minor": 5
}
